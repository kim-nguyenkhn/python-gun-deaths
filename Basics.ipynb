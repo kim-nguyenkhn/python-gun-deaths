{
 "cells": [
  {
   "cell_type": "code",
   "execution_count": 48,
   "metadata": {
    "collapsed": false,
    "scrolled": true
   },
   "outputs": [
    {
     "name": "stdout",
     "output_type": "stream",
     "text": [
      "{'Asian/Pacific Islander': 3.530346230970155, 'Black': 48.471284987180944, 'Native American/Native Alaskan': 8.717729026240365, 'Hispanic': 12.627161104219914, 'White': 4.6356417981453335}\n"
     ]
    }
   ],
   "source": [
    "import csv\n",
    "import datetime\n",
    "filename = \"guns.csv\"\n",
    "opened_file = open(filename, \"r\")\n",
    "smth = csv.reader(opened_file)\n",
    "\n",
    "data = list(smth)\n",
    "headers = data.pop(0)\n",
    "\n",
    "def getUniqueCounts(listOfItems):\n",
    "    item_counts = {}\n",
    "    for item in listOfItems:\n",
    "#         print(item)\n",
    "        if item not in item_counts:\n",
    "            item_counts[item] = 0\n",
    "        item_counts[item] += 1\n",
    "    return item_counts\n",
    "\n",
    "years = [row[1] for row in data]\n",
    "year_counts = {}\n",
    "for year in years:\n",
    "    if year not in year_counts:\n",
    "        year_counts[year] = 0\n",
    "    year_counts[year] += 1\n",
    "# print(year_counts)\n",
    "    \n",
    "dates = [datetime.datetime(year=int(row[1]), month=int(row[2]), day=1) for row in data]\n",
    "date_counts = getUniqueCounts(dates)\n",
    "# print(date_counts)\n",
    "\n",
    "sexes = [row[5] for row in data]\n",
    "races = [row[7] for row in data]\n",
    "sex_counts = getUniqueCounts(sexes)\n",
    "race_counts = getUniqueCounts(races)\n",
    "# print(sex_counts)\n",
    "# print(race_counts)\n",
    "\n",
    "\n",
    "census_filename = \"census.csv\"\n",
    "census = list(csv.reader(open(census_filename, \"r\")))\n",
    "# print(census)\n",
    "census_headers = census.pop(0)\n",
    "census = census.pop(0)\n",
    "# print(census_headers)\n",
    "# print(census)\n",
    "\n",
    "### Dictionary: { race: population }\n",
    "population_by_race_dict = {\n",
    "    \"Asian/Pacific Islander\": 15834141,\n",
    "    \"Black\": 40250635,\n",
    "    \"Native American/Native Alaskan\": 3739506,\n",
    "    \"Hispanic\": 44618105,\n",
    "    \"White\": 197318956\n",
    "}\n",
    "\n",
    "race_per_hundredk = {}\n",
    "for key, value in race_counts.items():\n",
    "    race_per_hundredk[key] = value / population_by_race_dict[key] * 100000\n",
    "\n",
    "# print(race_per_hundredk)\n",
    "\n",
    "# Filtering by deaths by intent: Homicide\n",
    "intents = [row[3] for row in data]\n",
    "races = [row[7] for row in data]\n",
    "homicide_race_counts = {}\n",
    "for i, race in enumerate(races):\n",
    "    if intents[i] == 'Homicide':\n",
    "        if race not in homicide_race_counts:\n",
    "            homicide_race_counts[race] = 0\n",
    "        homicide_race_counts[race] += 1\n",
    "# print(homicide_race_counts)\n",
    "\n",
    "for key, value in homicide_race_counts.items():\n",
    "    homicide_race_counts[key] = value / population_by_race_dict[key] * 100000\n",
    "    \n",
    "print(homicide_race_counts)"
   ]
  },
  {
   "cell_type": "markdown",
   "metadata": {},
   "source": [
    "# My learnings\n",
    "- Male gun deaths are much higher than female\n",
    "- Number of gun deaths are highest in white, and then black populations\n",
    "- For gun deaths per 100,000 people, Blacks are highest, then Whites\n",
    "- For homicides, Blacks by a wide margin, then Hispanics, Natives, Whites"
   ]
  }
 ],
 "metadata": {
  "kernelspec": {
   "display_name": "Python 3",
   "language": "python",
   "name": "python3"
  },
  "language_info": {
   "codemirror_mode": {
    "name": "ipython",
    "version": 3
   },
   "file_extension": ".py",
   "mimetype": "text/x-python",
   "name": "python",
   "nbconvert_exporter": "python",
   "pygments_lexer": "ipython3",
   "version": "3.4.3"
  }
 },
 "nbformat": 4,
 "nbformat_minor": 0
}
